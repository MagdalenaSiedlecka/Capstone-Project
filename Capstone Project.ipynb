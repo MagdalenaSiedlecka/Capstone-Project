{
 "cells": [
  {
   "cell_type": "markdown",
   "id": "2d768abe-03ee-4f82-8829-8a668a5ea197",
   "metadata": {},
   "source": [
    "This is my notebook for Capstone project !"
   ]
  },
  {
   "cell_type": "code",
   "execution_count": 1,
   "id": "e771ab02-d470-4835-8f0c-512b01beba28",
   "metadata": {},
   "outputs": [],
   "source": [
    "import numpy as np\n",
    "import pandas as pd"
   ]
  },
  {
   "cell_type": "code",
   "execution_count": 2,
   "id": "5ac38dc8-bd3d-4e4a-9b93-cf9aaaf4069e",
   "metadata": {},
   "outputs": [
    {
     "name": "stdout",
     "output_type": "stream",
     "text": [
      "Hello Capstone Project Course!\n"
     ]
    }
   ],
   "source": [
    "print('Hello Capstone Project Course!')"
   ]
  },
  {
   "cell_type": "code",
   "execution_count": null,
   "id": "467be1c6-fe4e-4011-82b9-cbd925917e63",
   "metadata": {},
   "outputs": [],
   "source": []
  }
 ],
 "metadata": {
  "kernelspec": {
   "display_name": "Python 3",
   "language": "python",
   "name": "python3"
  },
  "language_info": {
   "codemirror_mode": {
    "name": "ipython",
    "version": 3
   },
   "file_extension": ".py",
   "mimetype": "text/x-python",
   "name": "python",
   "nbconvert_exporter": "python",
   "pygments_lexer": "ipython3",
   "version": "3.8.1"
  }
 },
 "nbformat": 4,
 "nbformat_minor": 5
}
