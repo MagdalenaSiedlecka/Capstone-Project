{
 "cells": [
  {
   "cell_type": "markdown",
   "metadata": {},
   "source": [
    "# Capstone Project - The Battle of the Neighborhoods in Warsaw\n",
    "### Applied Data Science Capstone by IBM/Coursera"
   ]
  },
  {
   "cell_type": "markdown",
   "metadata": {},
   "source": [
    "## Table of contents\n",
    "* [Introduction: Business Problem](#introduction)\n",
    "* [Data](#data)\n"
   ]
  },
  {
   "cell_type": "markdown",
   "metadata": {},
   "source": [
    "\n",
    "\n",
    "## Introduction: Business Problem <a name=\"introduction\"></a>"
   ]
  },
  {
   "cell_type": "markdown",
   "metadata": {},
   "source": [
    "Warsaw is the capital of Poland and the largest city in the country. The city's population is 1.8 million with a density of 3,469 people per square kilometer. Warsaw is divided into 18 districts with different population densities and areas. As a person who lived there for 5 years, I decided to choose this place for my project.\n",
    "\n",
    "There are numerous companies and universities in the city attracting a huge number of interested people. Everyone is interested in various attractions in the city, depending on their needs. A family with children will have different needs than a student. The need to find an interesting and cheap point for yourself is a very important aspect. Additional needs are the knowledge of attractions available in the selected area.\n",
    "\n",
    "Data on average housing prices will be presented on the map for individual districts. Additionally, we will have clustered information about venue density."
   ]
  },
  {
   "cell_type": "markdown",
   "metadata": {},
   "source": [
    "## Data <a name=\"data\"></a>"
   ]
  },
  {
   "cell_type": "markdown",
   "metadata": {},
   "source": [
    "Based on the definition of our problem, the factors that will influence our decision are:\n",
    "* number of points of interest broken down by type;\n",
    "* Average prices of apartments in the area.\n",
    "\n",
    "The following sources will be used to obtain the necessary information:\n",
    "\n",
    "* Wikipedia - Administrative divisions of Warsaw;\n",
    "* Forsquare API to obtain information about the points of interest;\n",
    "* Public data on average prices per square meter in individual districts."
   ]
  },
  {
   "cell_type": "code",
   "execution_count": null,
   "metadata": {},
   "outputs": [],
   "source": []
  }
 ],
 "metadata": {
  "kernelspec": {
   "display_name": "Python 3",
   "language": "python",
   "name": "python3"
  },
  "language_info": {
   "codemirror_mode": {
    "name": "ipython",
    "version": 3
   },
   "file_extension": ".py",
   "mimetype": "text/x-python",
   "name": "python",
   "nbconvert_exporter": "python",
   "pygments_lexer": "ipython3",
   "version": "3.8.1"
  }
 },
 "nbformat": 4,
 "nbformat_minor": 4
}
